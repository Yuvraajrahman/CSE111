{
 "cells": [
  {
   "cell_type": "code",
   "execution_count": null,
   "metadata": {},
   "outputs": [],
   "source": [
    "#CSE111 Assignment 02\n",
    "# ID: 20301138 SECTION:04"
   ]
  },
  {
   "cell_type": "code",
   "execution_count": 7,
   "metadata": {},
   "outputs": [
    {
     "name": "stdout",
     "output_type": "stream",
     "text": [
      "enter first number: 5\n",
      "enter a divisor: 2\n",
      "0.5\n"
     ]
    }
   ],
   "source": [
    "#SOLUTION NO 1\n",
    "lst1 = int(input(\"enter first number: \"))\n",
    "lst2 = int(input(\"enter a divisor: \"))\n",
    "\n",
    "\n",
    "def function(x, y):\n",
    "    if y!=0:\n",
    "\n",
    "        div1 = int(x / y)\n",
    "        div2 = x / y\n",
    "        final1 = div2 - div1\n",
    "        print(final1)\n",
    "    \n",
    "\n",
    "function(lst1, lst2)\n"
   ]
  },
  {
   "cell_type": "code",
   "execution_count": 9,
   "metadata": {},
   "outputs": [
    {
     "name": "stdout",
     "output_type": "stream",
     "text": [
      "ENTER YOUR HEIGHT IN CM: 175\n",
      "ENTER YOUR WEIGHT IN KG: 96\n",
      "Score is  31.3 . You are  Obese\n"
     ]
    }
   ],
   "source": [
    "#SOLUTION NO 2\n",
    "ent0 = int(input(\"ENTER YOUR HEIGHT IN CM: \"))\n",
    "ent1 = float(ent0 / 100)\n",
    "ent2 = int(input(\"ENTER YOUR WEIGHT IN KG: \"))\n",
    "\n",
    "\n",
    "def function(h, w):\n",
    "    a = 'Underweight'\n",
    "    b = 'Normal'\n",
    "    c = \"Overweight\"\n",
    "    d = \"Obese\"\n",
    "    bmi0 = w / (h * h)\n",
    "    bmi1 = round(bmi0, 1)\n",
    "\n",
    "    if bmi1 < 18.5:\n",
    "\n",
    "        print(\"Score is \", bmi1, \". You are \", a)\n",
    "    elif 18.5 <= bmi1 <= 24.9:\n",
    "        print(\"Score is \", bmi1, \". You are \", b)\n",
    "    elif 25 <= bmi1 <= 30:\n",
    "        print(\"Score is \", bmi1, \". You are \", c)\n",
    "    elif bmi1 > 30:\n",
    "        print(\"Score is \", bmi1, \". You are \", d)\n",
    "\n",
    "\n",
    "function(ent1, ent2)"
   ]
  },
  {
   "cell_type": "code",
   "execution_count": 19,
   "metadata": {},
   "outputs": [
    {
     "name": "stdout",
     "output_type": "stream",
     "text": [
      "ENTER THE MIMIMUM VALUE: 0\n",
      "ENTER THE MAXIMUM VALUE: 10\n",
      "ENTER THE DIVISOR: 2\n",
      "20\n"
     ]
    }
   ],
   "source": [
    "#SOLUTION NO 3\n",
    "ent1 = int(input(\"ENTER THE MIMIMUM VALUE: \"))\n",
    "ent2 = int(input(\"ENTER THE MAXIMUM VALUE: \"))\n",
    "ent3 = int(input(\"ENTER THE DIVISOR: \"))\n",
    "\n",
    "\n",
    "def function(low, high, dev):\n",
    "    lst1 = []\n",
    "\n",
    "\n",
    "    for i in range(low, high, 1):\n",
    "\n",
    "        if i % dev == 0:\n",
    "            lst1.append(i)\n",
    "\n",
    "    \n",
    "    total = 0\n",
    "    for i in lst1:\n",
    "\n",
    "        total = total + i\n",
    "\n",
    "    return total\n",
    "\n",
    "\n",
    "print(function(ent1, ent2, ent3))\n",
    "\n",
    "\n",
    "\n"
   ]
  },
  {
   "cell_type": "code",
   "execution_count": 10,
   "metadata": {},
   "outputs": [
    {
     "name": "stdout",
     "output_type": "stream",
     "text": [
      "ENTER THE NAME OF YOUR BURGER: Beef Burger\n",
      "ENTER THE NAME OF YOUR PLACE: new\n",
      "243.6\n"
     ]
    }
   ],
   "source": [
    "#SOLUTION NO 4\n",
    "\n",
    "\n",
    "\n",
    "meal = str(input(\"ENTER THE NAME OF YOUR BURGER: \"))\n",
    "place = str(input(\"ENTER THE NAME OF YOUR PLACE: \"))\n",
    "\n",
    "\n",
    "def func(m, p):\n",
    "    if m == \"BBQ Chicken Cheese Burger\":\n",
    "        price = 250\n",
    "    elif m == \"Beef Burger\":\n",
    "        price = 170\n",
    "    elif m == \"Naga Drums\":\n",
    "        price = 200\n",
    "\n",
    "    if p == 'Mohakhali':\n",
    "        deli = 40\n",
    "    else:\n",
    "        deli = 60\n",
    "\n",
    "    tax = (8 / 100) * price\n",
    "    total = price + deli + tax\n",
    "    print(total)\n",
    "\n",
    "\n",
    "func(meal, place)"
   ]
  },
  {
   "cell_type": "code",
   "execution_count": null,
   "metadata": {},
   "outputs": [],
   "source": [
    "#SOLUTION NO 5"
   ]
  },
  {
   "cell_type": "code",
   "execution_count": 11,
   "metadata": {},
   "outputs": [
    {
     "name": "stdout",
     "output_type": "stream",
     "text": [
      "ENTER YOUR NAME:Steve Jobs\n",
      "Vowels: eeo . Total number of vowels: 3\n"
     ]
    }
   ],
   "source": [
    "#SOLUTION NO 6\n",
    "nam1 = str(input(\"ENTER YOUR NAME:\"))\n",
    "name = nam1.lower()\n",
    "\n",
    "\n",
    "def function(n):\n",
    "    count = 0\n",
    "\n",
    "    str1 = \"\"\n",
    "    for i in n:\n",
    "        if i in (\"a\", \"e\", \"i\", \"o\", \"u\"):\n",
    "            count = count + 1\n",
    "            str1 += i\n",
    "\n",
    "    print(\"Vowels:\", str1, \".\", \"Total number of vowels:\", count)\n",
    "\n",
    "\n",
    "function(name)\n"
   ]
  },
  {
   "cell_type": "code",
   "execution_count": 12,
   "metadata": {},
   "outputs": [
    {
     "name": "stdout",
     "output_type": "stream",
     "text": [
      "enter a string:nurses run\n",
      "Palindrome\n"
     ]
    }
   ],
   "source": [
    "#SOLUTION NO 7\n",
    "str1 = str(input(\"enter a string:\"))\n",
    "\n",
    "\n",
    "def function(s):\n",
    "    str2 = \"\"\n",
    "\n",
    "    s1 = s.replace(\" \",\"\")\n",
    "    for i in s1:\n",
    "        str2 += i\n",
    "\n",
    "\n",
    "    if s1 == str2[::-1]:\n",
    "        print(\"Palindrome\")\n",
    "    else:\n",
    "        print(\"Not a palindrome\")\n",
    "\n",
    "\n",
    "function(str1)"
   ]
  },
  {
   "cell_type": "code",
   "execution_count": 15,
   "metadata": {},
   "outputs": [
    {
     "name": "stdout",
     "output_type": "stream",
     "text": [
      "ENTER NUMBER OF DAYS:4000\n",
      "10 years, 11 months and 20 days\n"
     ]
    }
   ],
   "source": [
    "#SOLUTION NO 8\n",
    "days = int(input(\"ENTER NUMBER OF DAYS:\"))\n",
    "\n",
    "\n",
    "def function(d):\n",
    "    years = int(d/365)\n",
    "    d1 = d- (365*years)\n",
    "    mon = int((d1/30))\n",
    "    days= d1 -(mon*30)\n",
    "    \n",
    "    print(years,\"years,\", mon,\"months and\", days, \"days\")\n",
    "\n",
    "\n",
    "\n",
    "\n",
    "function(days)"
   ]
  },
  {
   "cell_type": "code",
   "execution_count": null,
   "metadata": {},
   "outputs": [],
   "source": [
    "#SOLUTION NO 9"
   ]
  }
 ],
 "metadata": {
  "kernelspec": {
   "display_name": "Python 3",
   "language": "python",
   "name": "python3"
  },
  "language_info": {
   "codemirror_mode": {
    "name": "ipython",
    "version": 3
   },
   "file_extension": ".py",
   "mimetype": "text/x-python",
   "name": "python",
   "nbconvert_exporter": "python",
   "pygments_lexer": "ipython3",
   "version": "3.7.6"
  }
 },
 "nbformat": 4,
 "nbformat_minor": 4
}
