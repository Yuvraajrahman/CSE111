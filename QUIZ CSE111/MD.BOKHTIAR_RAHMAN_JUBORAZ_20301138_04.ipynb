{
 "cells": [
  {
   "cell_type": "code",
   "execution_count": null,
   "metadata": {},
   "outputs": [],
   "source": [
    "# CSE111 quiz01\n",
    "#id : 20301138\n",
    "#𝐐𝐔𝐄𝐒𝐓𝐈𝐎𝐍:\n",
    "#Write a Python program that will take N numbers from the user. Create a \n",
    "#dictionary from the N numbers that will hold odd and even numbers in \n",
    "#separate keys. The inputs will take N at first and then take N numbers.\n"
   ]
  },
  {
   "cell_type": "code",
   "execution_count": null,
   "metadata": {},
   "outputs": [],
   "source": []
  },
  {
   "cell_type": "code",
   "execution_count": 1,
   "metadata": {},
   "outputs": [
    {
     "name": "stdout",
     "output_type": "stream",
     "text": [
      "enter a numbe for range:6\n",
      "1\n",
      "2\n",
      "3\n",
      "4\n",
      "5\n",
      "6\n",
      "{'even': [2, 4, 6], 'odd': [1, 3, 5]}\n"
     ]
    }
   ],
   "source": [
    "num1 = int(input(\"enter a numbe for range:\"))\n",
    "lst = []\n",
    "d = {}\n",
    "a = []\n",
    "b = []\n",
    "for i in range(num1):\n",
    "    ele = int(input())\n",
    "    lst.append(ele)\n",
    "\n",
    "\n",
    "for i in lst:\n",
    "    if i%2 == 0:\n",
    "        a.append(i)\n",
    "\n",
    "for j in lst:\n",
    "    if j%2 != 0:\n",
    "        b.append(j)\n",
    "\n",
    "\n",
    "d[\"even\"] = a\n",
    "d[\"odd\"] = b\n",
    "\n",
    "\n",
    "print(d)\n"
   ]
  },
  {
   "cell_type": "code",
   "execution_count": null,
   "metadata": {},
   "outputs": [],
   "source": []
  }
 ],
 "metadata": {
  "kernelspec": {
   "display_name": "Python 3",
   "language": "python",
   "name": "python3"
  },
  "language_info": {
   "codemirror_mode": {
    "name": "ipython",
    "version": 3
   },
   "file_extension": ".py",
   "mimetype": "text/x-python",
   "name": "python",
   "nbconvert_exporter": "python",
   "pygments_lexer": "ipython3",
   "version": "3.7.6"
  }
 },
 "nbformat": 4,
 "nbformat_minor": 4
}
